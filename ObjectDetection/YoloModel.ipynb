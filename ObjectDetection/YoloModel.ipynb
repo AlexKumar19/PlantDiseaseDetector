{
 "cells": [
  {
   "cell_type": "code",
   "execution_count": 18,
   "metadata": {},
   "outputs": [
    {
     "ename": "Exception",
     "evalue": "Weights file not found at c:\\Users\\Alex Kumar\\Documents\\Projects\\PlantDiseaseDetector\\ObjectDetection\\ObjectDetection\\yolov5\\runs\\train\\yolov5s-planthealth8\\weights\\best.pt. Please ensure the training completed successfully and the file path is correct.",
     "output_type": "error",
     "traceback": [
      "\u001b[1;31m---------------------------------------------------------------------------\u001b[0m",
      "\u001b[1;31mException\u001b[0m                                 Traceback (most recent call last)",
      "Cell \u001b[1;32mIn[18], line 16\u001b[0m\n\u001b[0;32m     14\u001b[0m \u001b[38;5;66;03m# Verify if the weights file exists\u001b[39;00m\n\u001b[0;32m     15\u001b[0m \u001b[38;5;28;01mif\u001b[39;00m \u001b[38;5;129;01mnot\u001b[39;00m os\u001b[38;5;241m.\u001b[39mpath\u001b[38;5;241m.\u001b[39mexists(weights_path):\n\u001b[1;32m---> 16\u001b[0m     \u001b[38;5;28;01mraise\u001b[39;00m \u001b[38;5;167;01mException\u001b[39;00m(\u001b[38;5;124mf\u001b[39m\u001b[38;5;124m\"\u001b[39m\u001b[38;5;124mWeights file not found at \u001b[39m\u001b[38;5;132;01m{\u001b[39;00mweights_path\u001b[38;5;132;01m}\u001b[39;00m\u001b[38;5;124m. Please ensure the training completed successfully and the file path is correct.\u001b[39m\u001b[38;5;124m\"\u001b[39m)\n\u001b[0;32m     18\u001b[0m \u001b[38;5;66;03m# Load the trained model from the local YOLOv5 directory\u001b[39;00m\n\u001b[0;32m     19\u001b[0m model \u001b[38;5;241m=\u001b[39m torch\u001b[38;5;241m.\u001b[39mhub\u001b[38;5;241m.\u001b[39mload(yolov5_dir, \u001b[38;5;124m'\u001b[39m\u001b[38;5;124mcustom\u001b[39m\u001b[38;5;124m'\u001b[39m, path\u001b[38;5;241m=\u001b[39mweights_path, source\u001b[38;5;241m=\u001b[39m\u001b[38;5;124m'\u001b[39m\u001b[38;5;124mlocal\u001b[39m\u001b[38;5;124m'\u001b[39m)\n",
      "\u001b[1;31mException\u001b[0m: Weights file not found at c:\\Users\\Alex Kumar\\Documents\\Projects\\PlantDiseaseDetector\\ObjectDetection\\ObjectDetection\\yolov5\\runs\\train\\yolov5s-planthealth8\\weights\\best.pt. Please ensure the training completed successfully and the file path is correct."
     ]
    }
   ],
   "source": [
    "import torch\n",
    "import os\n",
    "from IPython.display import Image, display\n",
    "\n",
    "# Get the current working directory (assuming this script is run from the PlantDiseaseDetector directory)\n",
    "current_dir = os.getcwd()\n",
    "\n",
    "# Define the path to the YOLOv5 directory using os.path.join for relative paths\n",
    "yolov5_dir = os.path.join(current_dir, 'ObjectDetection', 'yolov5')\n",
    "\n",
    "# Define the path to the weights file using os.path.join for relative paths\n",
    "weights_path = os.path.join(yolov5_dir, 'runs', 'train', 'yolov5s-planthealth8', 'weights', 'best.pt')\n",
    "\n",
    "# Verify if the weights file exists\n",
    "if not os.path.exists(weights_path):\n",
    "    raise Exception(f\"Weights file not found at {weights_path}. Please ensure the training completed successfully and the file path is correct.\")\n",
    "\n",
    "# Load the trained model from the local YOLOv5 directory\n",
    "model = torch.hub.load(yolov5_dir, 'custom', path=weights_path, source='local')\n",
    "\n",
    "# Adjust confidence threshold\n",
    "model.conf = 0.1  # Lower the confidence threshold to 10%\n",
    "\n",
    "# Define the path to the image file using os.path.join for relative paths\n",
    "img_path = os.path.join(current_dir, 'ObjectDetection', 'images', 'your_test_image.jpg')\n",
    "\n",
    "# Perform inference on a new image\n",
    "results = model(img_path)\n",
    "\n",
    "# Print detailed results for debugging\n",
    "print(\"Model Predictions:\")\n",
    "results.print()  # Print results to see what was detected\n",
    "\n",
    "# Define the save directory for results\n",
    "save_dir = os.path.join(current_dir, 'ObjectDetection', 'runs', 'detect', 'exp')\n",
    "results.save(save_dir=save_dir)  # Save results to 'runs/detect/exp'\n",
    "\n",
    "# Display the processed image with bounding boxes\n",
    "processed_img_path = os.path.join(save_dir, os.path.basename(img_path))\n",
    "if os.path.exists(processed_img_path):\n",
    "    display(Image(filename=processed_img_path))\n",
    "else:\n",
    "    print(\"Processed image not found. Check the save directory and image name.\")\n"
   ]
  }
 ],
 "metadata": {
  "kernelspec": {
   "display_name": "venv",
   "language": "python",
   "name": "python3"
  },
  "language_info": {
   "codemirror_mode": {
    "name": "ipython",
    "version": 3
   },
   "file_extension": ".py",
   "mimetype": "text/x-python",
   "name": "python",
   "nbconvert_exporter": "python",
   "pygments_lexer": "ipython3",
   "version": "3.12.4"
  }
 },
 "nbformat": 4,
 "nbformat_minor": 2
}
